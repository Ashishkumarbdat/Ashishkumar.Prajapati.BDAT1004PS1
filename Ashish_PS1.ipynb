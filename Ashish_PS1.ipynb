{
 "cells": [
  {
   "cell_type": "markdown",
   "id": "e96fc3b0",
   "metadata": {},
   "source": [
    "# Question 1"
   ]
  },
  {
   "cell_type": "markdown",
   "id": "6d409764",
   "metadata": {},
   "source": [
    "Here's the data type of each of the following in C#:\n",
    "\n",
    "5                  - integer (int).\n",
    "\n",
    "5.0                - floating-point number (double).\n",
    "\n",
    "5 > 1              - boolean (bool) (True).\n",
    "\n",
    "'5'                - string (string).\n",
    "\n",
    "5 * 2              - integer (int)  (10).\n",
    "\n",
    "'5' * 2            - error (cannot multiply a string and an integer).\n",
    "\n",
    "'5' + '2'          - string (string) (52).\n",
    "\n",
    "5 / 2              - floating-point number (double) (2.5).\n",
    "\n",
    "5 % 2              - integer (int) (1).\n",
    "\n",
    "{5, 2, 1}          - array of integers (int {1, 2, 5}).\n",
    "\n",
    "5 == 3             - boolean (bool) (false).\n",
    "\n",
    "Pi (the number)    - floating-point number (double)."
   ]
  },
  {
   "cell_type": "markdown",
   "id": "75302211",
   "metadata": {},
   "source": [
    "# Question 2"
   ]
  },
  {
   "cell_type": "markdown",
   "id": "3a28845b",
   "metadata": {},
   "source": [
    "a.The number of letters in the word 'Supercalifragilisticexpialidocious' is: 34.\n",
    "  The C# code to get this output is:"
   ]
  },
  {
   "cell_type": "code",
   "execution_count": 1,
   "id": "602c1c01",
   "metadata": {},
   "outputs": [
    {
     "data": {
      "text/html": [
       "\r\n",
       "<div>\r\n",
       "    <div id='dotnet-interactive-this-cell-39796.Microsoft.DotNet.Interactive.Http.HttpPort' style='display: none'>\r\n",
       "        The below script needs to be able to find the current output cell; this is an easy method to get it.\r\n",
       "    </div>\r\n",
       "    <script type='text/javascript'>\r\n",
       "async function probeAddresses(probingAddresses) {\r\n",
       "    function timeout(ms, promise) {\r\n",
       "        return new Promise(function (resolve, reject) {\r\n",
       "            setTimeout(function () {\r\n",
       "                reject(new Error('timeout'))\r\n",
       "            }, ms)\r\n",
       "            promise.then(resolve, reject)\r\n",
       "        })\r\n",
       "    }\r\n",
       "\r\n",
       "    if (Array.isArray(probingAddresses)) {\r\n",
       "        for (let i = 0; i < probingAddresses.length; i++) {\r\n",
       "\r\n",
       "            let rootUrl = probingAddresses[i];\r\n",
       "\r\n",
       "            if (!rootUrl.endsWith('/')) {\r\n",
       "                rootUrl = `${rootUrl}/`;\r\n",
       "            }\r\n",
       "\r\n",
       "            try {\r\n",
       "                let response = await timeout(1000, fetch(`${rootUrl}discovery`, {\r\n",
       "                    method: 'POST',\r\n",
       "                    cache: 'no-cache',\r\n",
       "                    mode: 'cors',\r\n",
       "                    timeout: 1000,\r\n",
       "                    headers: {\r\n",
       "                        'Content-Type': 'text/plain'\r\n",
       "                    },\r\n",
       "                    body: probingAddresses[i]\r\n",
       "                }));\r\n",
       "\r\n",
       "                if (response.status == 200) {\r\n",
       "                    return rootUrl;\r\n",
       "                }\r\n",
       "            }\r\n",
       "            catch (e) { }\r\n",
       "        }\r\n",
       "    }\r\n",
       "}\r\n",
       "\r\n",
       "function loadDotnetInteractiveApi() {\r\n",
       "    probeAddresses([\"http://10.0.0.107:2048/\", \"http://127.0.0.1:2048/\"])\r\n",
       "        .then((root) => {\r\n",
       "        // use probing to find host url and api resources\r\n",
       "        // load interactive helpers and language services\r\n",
       "        let dotnetInteractiveRequire = require.config({\r\n",
       "        context: '39796.Microsoft.DotNet.Interactive.Http.HttpPort',\r\n",
       "                paths:\r\n",
       "            {\r\n",
       "                'dotnet-interactive': `${root}resources`\r\n",
       "                }\r\n",
       "        }) || require;\r\n",
       "\r\n",
       "            window.dotnetInteractiveRequire = dotnetInteractiveRequire;\r\n",
       "\r\n",
       "            window.configureRequireFromExtension = function(extensionName, extensionCacheBuster) {\r\n",
       "                let paths = {};\r\n",
       "                paths[extensionName] = `${root}extensions/${extensionName}/resources/`;\r\n",
       "                \r\n",
       "                let internalRequire = require.config({\r\n",
       "                    context: extensionCacheBuster,\r\n",
       "                    paths: paths,\r\n",
       "                    urlArgs: `cacheBuster=${extensionCacheBuster}`\r\n",
       "                    }) || require;\r\n",
       "\r\n",
       "                return internalRequire\r\n",
       "            };\r\n",
       "        \r\n",
       "            dotnetInteractiveRequire([\r\n",
       "                    'dotnet-interactive/dotnet-interactive'\r\n",
       "                ],\r\n",
       "                function (dotnet) {\r\n",
       "                    dotnet.init(window);\r\n",
       "                },\r\n",
       "                function (error) {\r\n",
       "                    console.log(error);\r\n",
       "                }\r\n",
       "            );\r\n",
       "        })\r\n",
       "        .catch(error => {console.log(error);});\r\n",
       "    }\r\n",
       "\r\n",
       "// ensure `require` is available globally\r\n",
       "if ((typeof(require) !==  typeof(Function)) || (typeof(require.config) !== typeof(Function))) {\r\n",
       "    let require_script = document.createElement('script');\r\n",
       "    require_script.setAttribute('src', 'https://cdnjs.cloudflare.com/ajax/libs/require.js/2.3.6/require.min.js');\r\n",
       "    require_script.setAttribute('type', 'text/javascript');\r\n",
       "    \r\n",
       "    \r\n",
       "    require_script.onload = function() {\r\n",
       "        loadDotnetInteractiveApi();\r\n",
       "    };\r\n",
       "\r\n",
       "    document.getElementsByTagName('head')[0].appendChild(require_script);\r\n",
       "}\r\n",
       "else {\r\n",
       "    loadDotnetInteractiveApi();\r\n",
       "}\r\n",
       "\r\n",
       "    </script>\r\n",
       "</div>"
      ]
     },
     "metadata": {},
     "output_type": "display_data"
    },
    {
     "name": "stdout",
     "output_type": "stream",
     "text": [
      "The number of letters in the word 'Supercalifragilisticexpialidocious' is: 34\r\n"
     ]
    }
   ],
   "source": [
    "string word = \"Supercalifragilisticexpialidocious\";\n",
    "int letterCount = word.Length;\n",
    "Console.WriteLine(\"The number of letters in the word 'Supercalifragilisticexpialidocious' is: \" + letterCount);"
   ]
  },
  {
   "cell_type": "markdown",
   "id": "e95787e9",
   "metadata": {},
   "source": [
    "b. The word 'Supercalifragilisticexpialidocious' contains the substring 'ice': True.\n",
    "   The C# code to check if the string \"Supercalifragilisticexpialidocious\" contains the substring \"ice\":"
   ]
  },
  {
   "cell_type": "code",
   "execution_count": 2,
   "id": "9bbc0272",
   "metadata": {},
   "outputs": [
    {
     "name": "stdout",
     "output_type": "stream",
     "text": [
      "The word 'Supercalifragilisticexpialidocious' contains the substring 'ice': True\r\n"
     ]
    }
   ],
   "source": [
    "string word = \"Supercalifragilisticexpialidocious\";\n",
    "bool containsIce = word.Contains(\"ice\");\n",
    "Console.WriteLine(\"The word 'Supercalifragilisticexpialidocious' contains the substring 'ice': \" + containsIce);"
   ]
  },
  {
   "cell_type": "markdown",
   "id": "c2188430",
   "metadata": {},
   "source": [
    "c. The longest word is: Supercalifragilisticexpialidocious.\n",
    "   The C# code to find the longest word from the list:"
   ]
  },
  {
   "cell_type": "code",
   "execution_count": 3,
   "id": "e08769d6",
   "metadata": {},
   "outputs": [
    {
     "name": "stdout",
     "output_type": "stream",
     "text": [
      "The longest word is: Supercalifragilisticexpialidocious\r\n"
     ]
    }
   ],
   "source": [
    "string word1 = \"Supercalifragilisticexpialidocious\";\n",
    "string word2 = \"Honorificabilitudinitatibus\";\n",
    "string word3 = \"Bababadalgharaghtakamminarronnkonn\";\n",
    "\n",
    "string longestWord = word1;\n",
    "if (word2.Length > longestWord.Length)\n",
    "{\n",
    "    longestWord = word2;\n",
    "}\n",
    "if (word3.Length > longestWord.Length)\n",
    "{\n",
    "    longestWord = word3;\n",
    "}\n",
    "\n",
    "Console.WriteLine(\"The longest word is: \" + longestWord);"
   ]
  },
  {
   "cell_type": "markdown",
   "id": "2cdbc74a",
   "metadata": {},
   "source": [
    "d. The first composer in the dictionary is: Bartok.\n",
    "   The last composer in the dictionary is: Buxtehude.\n",
    "   The C# code to find the first and last composer from the list:"
   ]
  },
  {
   "cell_type": "code",
   "execution_count": 4,
   "id": "4d2b3b91",
   "metadata": {},
   "outputs": [
    {
     "name": "stdout",
     "output_type": "stream",
     "text": [
      "The first composer in the dictionary is: Bartok\n",
      "The last composer in the dictionary is: Buxtehude\n"
     ]
    }
   ],
   "source": [
    "string[] composers = new string[] { \"Berlioz\", \"Borodin\", \"Brian\", \"Bartok\", \"Bellini\", \"Buxtehude\", \"Bernstein\" };\n",
    "Array.Sort(composers);\n",
    "Console.WriteLine(\"The first composer in the dictionary is: \" + composers[0]);\n",
    "Console.WriteLine(\"The last composer in the dictionary is: \" + composers[composers.Length - 1]);"
   ]
  },
  {
   "cell_type": "markdown",
   "id": "621e547a",
   "metadata": {},
   "source": [
    "# Question 3"
   ]
  },
  {
   "cell_type": "markdown",
   "id": "7294ce2c",
   "metadata": {},
   "source": [
    "The output is: 1.7320508075688772.\n",
    "The implementation in C#:"
   ]
  },
  {
   "cell_type": "code",
   "execution_count": 5,
   "id": "285caa9e",
   "metadata": {},
   "outputs": [
    {
     "name": "stdout",
     "output_type": "stream",
     "text": [
      "1.7320508075688772\r\n"
     ]
    }
   ],
   "source": [
    "static double TriangleArea(double a, double b, double c)\n",
    "{\n",
    "    double s = (a + b + c) / 2;\n",
    "    double area = Math.Sqrt(s * (s - a) * (s - b) * (s - c));\n",
    "    return area;\n",
    "}\n",
    "\n",
    "double area = TriangleArea(2, 2, 2);\n",
    "Console.WriteLine(area);"
   ]
  },
  {
   "cell_type": "markdown",
   "id": "3410e337",
   "metadata": {},
   "source": [
    "# Question 4"
   ]
  },
  {
   "cell_type": "code",
   "execution_count": null,
   "id": "95f7f27f",
   "metadata": {},
   "outputs": [],
   "source": [
    "Console.WriteLine(\"Input the number of elements to be stored in the array :\");\n",
    "int numberOfElements = int.Parse(Console.ReadLine());\n",
    "\n",
    "int[] elements = new int[numberOfElements];\n",
    "\n",
    "Console.WriteLine(\"Input \" + numberOfElements + \" elements in the array :\");\n",
    "for (int i = 0; i < numberOfElements; i++)\n",
    "{\n",
    "    Console.WriteLine(\"element - \" + i + \" :\");\n",
    "    elements[i] = int.Parse(Console.ReadLine());\n",
    "}\n",
    "\n",
    "Console.WriteLine(\"The Even elements are :\");\n",
    "foreach (int element in elements)\n",
    "{\n",
    "    if (element % 2 == 0)\n",
    "    {\n",
    "        Console.Write(element + \" \");\n",
    "    }\n",
    "}\n",
    "\n",
    "Console.WriteLine();\n",
    "Console.WriteLine(\"The Odd elements are :\");\n",
    "foreach (int element in elements)\n",
    "{\n",
    "    if (element % 2 != 0)\n",
    "    {\n",
    "        Console.Write(element + \" \");\n",
    "    }\n",
    "}\n",
    "  "
   ]
  },
  {
   "cell_type": "markdown",
   "id": "3ccfb846",
   "metadata": {},
   "source": [
    "Input the number of elements to be stored in the array : 5\n",
    "\n",
    "Input 5 elements in the array :\n",
    "\n",
    "element - 0 :25\n",
    "\n",
    "element - 1 :47\n",
    "\n",
    "element - 2 :42\n",
    "\n",
    "element - 3 :56\n",
    "\n",
    "element - 4 :32\n",
    "\n",
    "The Even elements are :\n",
    "\n",
    "42 56 32\n",
    "\n",
    "The Odd elements are :\n",
    "\n",
    "25 47\n"
   ]
  },
  {
   "cell_type": "markdown",
   "id": "f07853f8",
   "metadata": {},
   "source": [
    "# Question 5"
   ]
  },
  {
   "cell_type": "markdown",
   "id": "ce41ee69",
   "metadata": {},
   "source": [
    "a.The output: True\n",
    "              False.\n",
    "  The implementation in C#:"
   ]
  },
  {
   "cell_type": "code",
   "execution_count": 6,
   "id": "af9b556f",
   "metadata": {},
   "outputs": [
    {
     "name": "stdout",
     "output_type": "stream",
     "text": [
      "True\n",
      "False\n"
     ]
    }
   ],
   "source": [
    "\n",
    "static bool Inside(double x, double y, double x1, double y1, double x2, double y2)\n",
    "{\n",
    "    if (x >= x1 && x <= x2 && y >= y1 && y <= y2)\n",
    "    {\n",
    "        return true;\n",
    "    }\n",
    "    return false;\n",
    "}\n",
    "\n",
    "Console.WriteLine(Inside(1, 1, 0, 0, 2, 3));\n",
    "Console.WriteLine(Inside(-1, -1, 0, 0, 2, 3));\n"
   ]
  },
  {
   "cell_type": "markdown",
   "id": "c531a31b",
   "metadata": {},
   "source": [
    "b.The output: False.\n",
    "  The implementation in C#:"
   ]
  },
  {
   "cell_type": "code",
   "execution_count": 7,
   "id": "4cc71dbd",
   "metadata": {},
   "outputs": [
    {
     "name": "stdout",
     "output_type": "stream",
     "text": [
      "False\r\n"
     ]
    }
   ],
   "source": [
    "static bool Inside(double x, double y, double x1, double y1, double x2, double y2)\n",
    "{\n",
    "    if (x >= x1 && x <= x2 && y >= y1 && y <= y2)\n",
    "    {\n",
    "        return true;\n",
    "    }\n",
    "    return false;\n",
    "}\n",
    "\n",
    "Console.WriteLine(Inside(1, 1, 0.3, 0.5, 1.1, 0.7) && Inside(1, 1, 0.5, 0.2, 1.1, 2));\n"
   ]
  },
  {
   "cell_type": "markdown",
   "id": "83e8cac3",
   "metadata": {},
   "source": [
    "# Question 6"
   ]
  },
  {
   "cell_type": "code",
   "execution_count": 1,
   "id": "e3378609",
   "metadata": {},
   "outputs": [
    {
     "name": "stdout",
     "output_type": "stream",
     "text": [
      "appyhay\n",
      "enterway\n"
     ]
    }
   ],
   "source": [
    "def pig(word):\n",
    "    vowels = 'aeiou'\n",
    "    word = word.lower()\n",
    "    if word[0] in vowels:\n",
    "        return word + 'way'\n",
    "    else:\n",
    "        return word[1:] + word[0] + 'ay'\n",
    "print(pig('happy'))\n",
    "print(pig('Enter'))"
   ]
  },
  {
   "cell_type": "markdown",
   "id": "0174c5ce",
   "metadata": {},
   "source": [
    "# Question 7"
   ]
  },
  {
   "cell_type": "code",
   "execution_count": 2,
   "id": "e7e1fe3d",
   "metadata": {},
   "outputs": [
    {
     "name": "stdout",
     "output_type": "stream",
     "text": [
      "There are 15 patients of blood type A.\n",
      "There are 1 patients of blood type B.\n",
      "There are 13 patients of blood type AB.\n",
      "There are 15 patients of blood type O.\n",
      "There are 0 patients of blood type OO.\n",
      "['AB' 'AB' 'B' 'O' 'A' 'A' 'AB' 'O' 'AB' 'A' 'O' 'O' 'A' 'A' 'A' 'O' 'O'\n",
      " 'O' 'AB' 'O' 'A' 'A' 'A' 'A' 'A' 'AB' 'AB' 'A' 'AB' 'O' 'AB' 'O' 'A' 'O'\n",
      " 'O' 'O' 'AB' 'O' 'AB' 'AB' 'AB' 'A' 'A' 'O' '']\n"
     ]
    }
   ],
   "source": [
    "def bldcount(name):\n",
    "    with open(name) as f:\n",
    "        data = f.read()\n",
    "        blood_types = data.split()\n",
    "        type_A = blood_types.count('A')\n",
    "        type_B = blood_types.count('B')\n",
    "        type_AB = blood_types.count('AB')\n",
    "        type_O = blood_types.count('O')\n",
    "        type_OO = blood_types.count('OO')\n",
    "        print(f\"There are {type_A} patients of blood type A.\")\n",
    "        print(f\"There are {type_B} patients of blood type B.\")\n",
    "        print(f\"There are {type_AB} patients of blood type AB.\")\n",
    "        print(f\"There are {type_O} patients of blood type O.\")\n",
    "        print(f\"There are {type_OO} patients of blood type OO.\")\n",
    "bldcount('bloodtype.txt')\n",
    "import numpy as np\n",
    "name = 'bloodtype.txt'\n",
    "data = np.loadtxt(name, delimiter=' ', dtype=str)\n",
    "print(data)"
   ]
  },
  {
   "cell_type": "markdown",
   "id": "d225f0c0",
   "metadata": {},
   "source": [
    "# Question 8"
   ]
  },
  {
   "cell_type": "code",
   "execution_count": 3,
   "id": "fe79553c",
   "metadata": {},
   "outputs": [
    {
     "name": "stdout",
     "output_type": "stream",
     "text": [
      "Enter the currency:INR\n",
      "Enter the amount: 8000\n",
      "142.1144\n"
     ]
    }
   ],
   "source": [
    "def curconv(curr, amount):\n",
    "\n",
    "    if curr == 'AUD':\n",
    "        print(amount*1.0345157)\n",
    "    if curr == 'CHF':\n",
    "        print(amount*1.0237414)\n",
    "    if curr == 'CNY':\n",
    "        print(amount*0.1550176)\n",
    "    if curr == 'DKK':\n",
    "        print(amount*0.1651442)\n",
    "    if curr == 'EUR':\n",
    "        print(amount*1.2296544)\n",
    "    if curr == 'GBP':\n",
    "        print(amount*1.5550989)\n",
    "    if curr == 'HKD':\n",
    "        print(amount*0.1270207)\n",
    "    if curr == 'INR':\n",
    "        print(amount*0.0177643)\n",
    "    if curr == 'JPY':\n",
    "        print(amount*0.01241401)\n",
    "    if curr == 'MXN':\n",
    "        print(amount*0.0751848)\n",
    "    if curr == 'MYR':\n",
    "        print(amount*0.3145411)\n",
    "    if curr == 'NOK':\n",
    "        print(amount*0.1677063)\n",
    "    if curr == 'NZD':\n",
    "        print(amount*0.8003591)\n",
    "    if curr == 'PHP':\n",
    "        print(amount*0.0233234)\n",
    "    if curr == 'SEK':\n",
    "        print(amount*0.148269)\n",
    "    if curr == 'SGD':\n",
    "        print(amount*0.788871)\n",
    "    if curr == 'THB':\n",
    "        print(amount*0.0313789)\n",
    "\n",
    "curr = str(input(\"Enter the currency:\"))\n",
    "amount = int(input(\"Enter the amount: \"))\n",
    "curconv(curr, amount)"
   ]
  },
  {
   "cell_type": "markdown",
   "id": "7a702b8f",
   "metadata": {},
   "source": [
    "# Question 9"
   ]
  },
  {
   "cell_type": "markdown",
   "id": "9a71e827",
   "metadata": {},
   "source": [
    "a. TypeError: unsupported operand type(s) for +: 'int' and 'str'.\n",
    "\n",
    "b. IndexError: list index out of range.\n",
    "\n",
    "c. ValueError: math domain error.\n",
    "\n",
    "d. NameError: name 'x' is not defined.\n",
    "\n",
    "e. OSError: bloodty.txt not found.\n",
    "\n",
    "f. FileNotFoundError: [Errno 2] No such file or directory: 'rimimondal.txt'."
   ]
  },
  {
   "cell_type": "markdown",
   "id": "9c9bde27",
   "metadata": {},
   "source": [
    "# Question 10"
   ]
  },
  {
   "cell_type": "code",
   "execution_count": 4,
   "id": "cd63f791",
   "metadata": {},
   "outputs": [
    {
     "name": "stdout",
     "output_type": "stream",
     "text": [
      "[1, 1, 1, 3, 5, 1, 1, 2, 1, 0, 1, 0, 1, 2, 4, 0, 1, 2, 0, 2, 1, 0, 1, 1, 0, 0]\n",
      "[1, 0, 0, 0, 1, 0, 0, 0, 0, 0, 0, 1, 0, 0, 0, 2, 0, 0, 0, 0, 0, 0, 0, 0, 0, 0]\n"
     ]
    }
   ],
   "source": [
    "def frequencies(encryption):\n",
    "    letters = \"abcdefghijklmnopqrstuvwqyz\"\n",
    "    rimi = []\n",
    "    for letter in letters:\n",
    "        count = encryption.count(letter)\n",
    "        rimi.append(count)\n",
    "    print(rimi)\n",
    "\n",
    "frequencies(\"The quick red fox got bored and went home.\")\n",
    "frequencies(\"apple\")"
   ]
  }
 ],
 "metadata": {
  "kernelspec": {
   "display_name": "Python 3 (ipykernel)",
   "language": "python",
   "name": "python3"
  },
  "language_info": {
   "codemirror_mode": {
    "name": "ipython",
    "version": 3
   },
   "file_extension": ".py",
   "mimetype": "text/x-python",
   "name": "python",
   "nbconvert_exporter": "python",
   "pygments_lexer": "ipython3",
   "version": "3.9.13"
  }
 },
 "nbformat": 4,
 "nbformat_minor": 5
}
